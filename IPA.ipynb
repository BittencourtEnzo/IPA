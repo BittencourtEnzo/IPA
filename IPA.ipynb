{
 "cells": [
  {
   "cell_type": "code",
   "execution_count": null,
   "metadata": {},
   "outputs": [],
   "source": [
    "# Instalação das bibliotecas necessárias\n",
    "!pip install SpeechRecognition\n",
    "!pip install epitran\n",
    "!pip install gtts\n",
    "!pip install pydub"
   ]
  },
  {
   "cell_type": "code",
   "execution_count": 2,
   "metadata": {},
   "outputs": [],
   "source": [
    "# Importando as bibliotecas\n",
    "import speech_recognition as sr\n",
    "import epitran"
   ]
  },
  {
   "cell_type": "code",
   "execution_count": 3,
   "metadata": {},
   "outputs": [],
   "source": [
    "# Substitua 'your_audio_file.wav' pelo caminho do seu arquivo de áudio\n",
    "audio_path = 'nicole.wav'"
   ]
  },
  {
   "cell_type": "markdown",
   "metadata": {},
   "source": [
    "Parte 1: converter áudio para texto e para IPA"
   ]
  },
  {
   "cell_type": "code",
   "execution_count": 12,
   "metadata": {},
   "outputs": [],
   "source": [
    "# Função para converter áudio em texto\n",
    "def audio_to_text(audio_path):\n",
    "    recognizer = sr.Recognizer()\n",
    "    with sr.AudioFile(audio_path) as source:\n",
    "        audio_data = recognizer.record(source)\n",
    "        try:\n",
    "            # Usando o reconhecimento de fala do Google\n",
    "            text = recognizer.recognize_google(audio_data, language='pt-BR')\n",
    "            return text\n",
    "        except sr.UnknownValueError:\n",
    "            return \"Não foi possível entender o áudio\"\n",
    "        except sr.RequestError as e:\n",
    "            return f\"Erro de requisição: {e}\""
   ]
  },
  {
   "cell_type": "code",
   "execution_count": 13,
   "metadata": {},
   "outputs": [],
   "source": [
    "# Função para converter texto para IPA\n",
    "def text_to_ipa(text):\n",
    "    epi = epitran.Epitran('por-Latn')\n",
    "    ipa_transcription = epi.transliterate(text)\n",
    "    return ipa_transcription"
   ]
  },
  {
   "cell_type": "code",
   "execution_count": 14,
   "metadata": {},
   "outputs": [
    {
     "name": "stdout",
     "output_type": "stream",
     "text": [
      "Texto Transcrito: basicamente Enzo até perdeu ontem civil ontem foi código a gente tá agora arrumando um dois três fala então tinha várias partes dele com várias pessoas diferentes agora a gente tinha uma história organizando que falta para ele ficar show para ele ficar redondo e aí hoje com Cícero com a Clara e com o Fusca a gente maquiou tudo que tudo que tá em aberto quem vai fazer o quê é esforço versos Impacto né para a gente fazer ali uma prioridade E aí essa semana eu pensei já em amanhã talvez a gente sempre já configura VM do Lep's da Google no seu computador para você conseguir acessar VM com poder computacional legal pelo pelo vs code E aí começar já te passar um projetinho do bedwars para você e fazendo junto com com os cursos porque você já fez alguns cursos até porque no meio da mão não acho que a gente vê tipo ah que que eu não entendi direito como que realmente funciona né\n",
      "Transcrição IPA: bɐzikɐmɛntɛ ɛnzo ɐte pɛɾdew ontɛm sivil ontɛm fowi kɔdiɡo ɐ ʒɛntɛ ta ɐɡoɾɐ ɐʁumɐndo um dowis tɾes fɐlɐ ɛntɐ̃w̃ tinɐ vaɾiɐs pɐɾtɛs dɛlɛ kom vaɾiɐs pɛʃsowɐs difɛɾɛntɛs ɐɡoɾɐ ɐ ʒɛntɛ tinɐ umɐ iʃtɔɾiɐ oɾɡɐnizɐndo kʷɛ fɐltɐ pɐɾɐ ɛlɛ fikɐɾ sow pɐɾɐ ɛlɛ fikɐɾ ɾɛdondo ɛ aj́ oʒɛ kom sizɛɾo kom ɐ klɐɾɐ ɛ kom o fuʃkɐ ɐ ʒɛntɛ mɐkʷiowu tudo kʷɛ tudo kʷɛ ta ɛm ɐbɛɾto kʷɛm vaj fɐzɛɾ o kʷe e ɛʃfoɾso vɛɾsos impɐkto ne pɐɾɐ ɐ ʒɛntɛ fɐzɛɾ ɐli umɐ pɾioɾidɐdɛ ɛ aj́ ɛʃsɐ sɛmɐnɐ ew pɛnsɛj ʒa ɛm ɐmɐnɐ̃ tɐlvɛz ɐ ʒɛntɛ sɛmpɾɛ ʒa konfiɡʁɐ vm do lɛp's dɐ ɡowoɡlɛ no sew komputɐdoɾ pɐɾɐ voze konsɛɡʷiɾ ɐzɛʃsɐɾ vm kom podɛɾ komputɐzionɐl lɛɡɐl pɛlo pɛlo vs kodɛ ɛ aj́ komɛsɐɾ ʒa tɛ pɐʃsɐɾ um pɾoʒɛtino do bɛdwɐɾs pɐɾɐ voze ɛ fɐzɛndo ʒunto kom kom os kuɾsos poɾkʷɛ voze ʒa fɛz ɐlɡns kuɾsos ɐte poɾkʷɛ no mɛjo dɐ mɐ̃w̃ nɐ̃w̃ ɐko kʷɛ ɐ ʒɛntɛ ve tipo ɐ kʷɛ kʷɛ ew nɐ̃w̃ ɛntɛndi diɾɛjto komo kʷɛ ɾɛɐlmɛntɛ funsionɐ ne\n"
     ]
    }
   ],
   "source": [
    "# Chamando as funções\n",
    "text = audio_to_text(audio_path)\n",
    "print(\"Texto Transcrito:\", text)\n",
    "ipa = text_to_ipa(text)\n",
    "print(\"Transcrição IPA:\", ipa)"
   ]
  },
  {
   "cell_type": "markdown",
   "metadata": {},
   "source": [
    "Parte 2: Converter de IPA para texto"
   ]
  },
  {
   "cell_type": "code",
   "execution_count": null,
   "metadata": {},
   "outputs": [],
   "source": [
    "# uma vez mais não consegui :("
   ]
  },
  {
   "cell_type": "markdown",
   "metadata": {},
   "source": [
    "Parte 3: Converter de texto para áudio"
   ]
  },
  {
   "cell_type": "code",
   "execution_count": 15,
   "metadata": {},
   "outputs": [
    {
     "name": "stdout",
     "output_type": "stream",
     "text": [
      "Arquivo de áudio 'output_1.wav' salvo com sucesso.\n"
     ]
    }
   ],
   "source": [
    "from gtts import gTTS\n",
    "\n",
    "def text_to_speech(text, filename=\"output_1.wav\"):\n",
    "    tts = gTTS(text=text, lang='pt')\n",
    "    tts.save(filename)\n",
    "    print(f\"Arquivo de áudio '{filename}' salvo com sucesso.\")\n",
    "\n",
    "# Exemplo de texto em português\n",
    "#texto_portugues = \"Este é um exemplo de texto em português sendo convertido para áudio.\"\n",
    "\n",
    "# Convertendo texto para áudio\n",
    "text_to_speech(text)"
   ]
  },
  {
   "cell_type": "markdown",
   "metadata": {},
   "source": [
    "Parte extra: converter de IPA para áudio"
   ]
  },
  {
   "cell_type": "code",
   "execution_count": null,
   "metadata": {},
   "outputs": [],
   "source": [
    "import subprocess\n",
    "from pydub import AudioSegment\n",
    "\n",
    "def ipa_to_audio(ipa_string, output_file=\"output_2.wav\"):\n",
    "    # Usando espeak para converter IPA para áudio e salvar como mp3 temporário\n",
    "    temp_file = \"temp.mp3\"\n",
    "    subprocess.run([\"espeak\", \"-v\", \"pt\", \"--ipa\", \"-w\", temp_file, ipa_string])\n",
    "\n",
    "    # Convertendo mp3 para wav\n",
    "    audio = AudioSegment.from_mp3(temp_file)\n",
    "    audio.export(output_file, format=\"wav\")\n",
    "\n",
    "    # Removendo arquivo temporário\n",
    "    subprocess.run([\"rm\", temp_file])\n",
    "\n",
    "# Exemplo de string IPA\n",
    "ipa_string = \"'ɛstɛ ɛ ʊm ɛgzɛmplʊ\"  # Este é um exemplo em IPA\n",
    "\n",
    "# Chamada da função\n",
    "ipa_to_audio(ipa_string)\n",
    "print(f\"Arquivo '{output_file}' gerado com sucesso.\")\n"
   ]
  },
  {
   "cell_type": "code",
   "execution_count": null,
   "metadata": {},
   "outputs": [],
   "source": []
  }
 ],
 "metadata": {
  "kernelspec": {
   "display_name": "Python 3",
   "language": "python",
   "name": "python3"
  },
  "language_info": {
   "codemirror_mode": {
    "name": "ipython",
    "version": 3
   },
   "file_extension": ".py",
   "mimetype": "text/x-python",
   "name": "python",
   "nbconvert_exporter": "python",
   "pygments_lexer": "ipython3",
   "version": "3.11.7"
  }
 },
 "nbformat": 4,
 "nbformat_minor": 2
}
